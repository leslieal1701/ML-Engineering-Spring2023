{
 "cells": [
  {
   "cell_type": "markdown",
   "id": "db307993",
   "metadata": {},
   "source": [
    "## MANE 6962\n",
    "## Leslie Aleman\n",
    "## RIN: 661974300"
   ]
  },
  {
   "cell_type": "code",
   "execution_count": 1,
   "id": "adf76e51",
   "metadata": {},
   "outputs": [
    {
     "name": "stdout",
     "output_type": "stream",
     "text": [
      "tf\n"
     ]
    }
   ],
   "source": [
    "import os\n",
    "print (os.environ['CONDA_DEFAULT_ENV'])"
   ]
  },
  {
   "cell_type": "markdown",
   "id": "8c4bc544",
   "metadata": {},
   "source": [
    "### Question 1"
   ]
  },
  {
   "cell_type": "code",
   "execution_count": 3,
   "id": "4f908f12",
   "metadata": {},
   "outputs": [
    {
     "name": "stdout",
     "output_type": "stream",
     "text": [
      "a) Number of features in vector x1: 5\n",
      "   Number of features in vector x2: 4\n"
     ]
    }
   ],
   "source": [
    "import numpy as np\n",
    "from numpy import linalg as LA\n",
    "x1 = np.array([2,3,4,8,9])\n",
    "x2 = np.array([2,-3,-4,89])\n",
    "print(\"a) Number of features in vector x1:\",len(x1))\n",
    "print(\"   Number of features in vector x2:\",len(x2))"
   ]
  },
  {
   "cell_type": "code",
   "execution_count": 5,
   "id": "57f6c0fd",
   "metadata": {},
   "outputs": [
    {
     "name": "stdout",
     "output_type": "stream",
     "text": [
      "b) Norms for vector x1\n",
      "   L1 = 26.00, L2 = 13.19, L_inf = 9.00\n",
      "   Norms for vector x2\n",
      "   L1 = 98.00, L2 = 89.16, L_inf = 89.00\n"
     ]
    }
   ],
   "source": [
    "L1_norm = LA.norm(x1,1) #1-Norm or Manhattan vector norm\n",
    "L2_norm = LA.norm(x1,2) #2-Norm or Euclidean vector norm\n",
    "Linf_norm = LA.norm(x1,np.inf) #Max-norm or infinity-norm\n",
    "print(\"b) Norms for vector x1\")\n",
    "print('   L1 = %.2f, L2 = %.2f, L_inf = %.2f' %(L1_norm, L2_norm, Linf_norm))\n",
    "\n",
    "L1_norm = LA.norm(x2,1) #Manhattan norm\n",
    "L2_norm = LA.norm(x2,2) #Euclidean norm\n",
    "Linf_norm = LA.norm(x2,np.inf) #infinity norm\n",
    "print(\"   Norms for vector x2\")\n",
    "print('   L1 = %.2f, L2 = %.2f, L_inf = %.2f' %(L1_norm, L2_norm, Linf_norm))"
   ]
  },
  {
   "cell_type": "markdown",
   "id": "4a2ad0d9",
   "metadata": {},
   "source": [
    "### Question 2"
   ]
  },
  {
   "cell_type": "code",
   "execution_count": 59,
   "id": "db2cff67",
   "metadata": {},
   "outputs": [
    {
     "name": "stdout",
     "output_type": "stream",
     "text": [
      "a) Length of the feature vector, x: 3145728\n",
      "b) Length of the output vector, y: 12288\n",
      "c) Number of elements in matrix, W : 3.865E+10\n",
      "   Number of elements in vector, b : 12288\n"
     ]
    }
   ],
   "source": [
    "# A color image has the shape in the form of (H, W, C) \n",
    "# which stands for H:height, W:width and C:channel. \n",
    "# For example, an RGB image of size 256x256 has the shape of (256, 256, 3) \n",
    "# and it contains 256*256*3 number of elements in total.\n",
    "\n",
    "# y = Wx + b; dimensions of y, W*x, and b should match\n",
    "\n",
    "image1 = np.zeros((1024,1024,3))\n",
    "flat1 = np.reshape(image1,-1) #flatten into 1d array , x\n",
    "print(\"a) Length of the feature vector, x:\",len(flat1))\n",
    "\n",
    "image2 = np.zeros((64,64,3))\n",
    "flat2 = np.reshape(image2,-1) # y\n",
    "print(\"b) Length of the output vector, y:\",len(flat2))\n",
    "\n",
    "W = len(flat2)*len(flat1)# dimensions are y by x\n",
    "print(\"c) Number of elements in matrix, W : {:.3E}\".format(W))\n",
    "print(\"   Number of elements in vector, b :\",len(flat2))"
   ]
  },
  {
   "cell_type": "markdown",
   "id": "cb93a0ae",
   "metadata": {},
   "source": [
    "### Question 3"
   ]
  },
  {
   "cell_type": "code",
   "execution_count": 51,
   "id": "1384846f",
   "metadata": {},
   "outputs": [
    {
     "data": {
      "text/plain": [
       "array([[ 1, -1],\n",
       "       [ 2,  0]])"
      ]
     },
     "execution_count": 51,
     "metadata": {},
     "output_type": "execute_result"
    }
   ],
   "source": [
    "W = np.array([[1,-1],[2,0]])\n",
    "W"
   ]
  },
  {
   "cell_type": "code",
   "execution_count": 85,
   "id": "0d9be6a1",
   "metadata": {},
   "outputs": [
    {
     "name": "stdout",
     "output_type": "stream",
     "text": [
      "1-norm= 3.00, 2-form = 2.29, infinity-norm = 2.00, Frobenius norm = 2.45\n"
     ]
    }
   ],
   "source": [
    "L1_norm = LA.norm(W,1) #1-Norm\n",
    "L2_norm = LA.norm(W,2) #2-norm\n",
    "Linf_norm = LA.norm(W,np.inf) #infinity norm\n",
    "fro_norm = LA.norm(W,'fro') #Frobenius norm\n",
    "print('1-norm= %.2f, 2-form = %.2f, infinity-norm = %.2f, Frobenius norm = %.2f' \n",
    "      %(L1_norm, L2_norm, Linf_norm, fro_norm))"
   ]
  },
  {
   "cell_type": "markdown",
   "id": "f64ac24a",
   "metadata": {},
   "source": [
    "### Question 4"
   ]
  },
  {
   "cell_type": "code",
   "execution_count": 53,
   "id": "35c689e5",
   "metadata": {},
   "outputs": [
    {
     "name": "stdout",
     "output_type": "stream",
     "text": [
      "['sepal length (cm)', 'sepal width (cm)', 'petal length (cm)', 'petal width (cm)']\n",
      "['setosa' 'versicolor' 'virginica']\n"
     ]
    }
   ],
   "source": [
    "from sklearn import datasets\n",
    "\n",
    "iris = datasets.load_iris()\n",
    "print(iris.feature_names)\n",
    "print(iris.target_names)"
   ]
  },
  {
   "cell_type": "code",
   "execution_count": 54,
   "id": "a6564b88",
   "metadata": {},
   "outputs": [
    {
     "name": "stdout",
     "output_type": "stream",
     "text": [
      "(150, 3)\n",
      "(150,)\n"
     ]
    }
   ],
   "source": [
    "X = iris.data[:, :3] # select first three features\n",
    "y = iris.target\n",
    "print(X.shape)\n",
    "print(y.shape)"
   ]
  },
  {
   "cell_type": "code",
   "execution_count": 55,
   "id": "13611e25",
   "metadata": {},
   "outputs": [
    {
     "data": {
      "text/plain": [
       "dict_keys(['C', 'break_ties', 'cache_size', 'class_weight', 'coef0', 'decision_function_shape', 'degree', 'gamma', 'kernel', 'max_iter', 'probability', 'random_state', 'shrinking', 'tol', 'verbose'])"
      ]
     },
     "execution_count": 55,
     "metadata": {},
     "output_type": "execute_result"
    }
   ],
   "source": [
    "from sklearn.model_selection import train_test_split\n",
    "from sklearn import svm\n",
    "from sklearn.model_selection import GridSearchCV,RandomizedSearchCV \n",
    "\n",
    "X_train, X_test, y_train, y_test=train_test_split(X,y,test_size = 0.2,\n",
    "                                                  random_state=123,shuffle=True,\n",
    "                                                  stratify=y)\n",
    "clf = svm.SVC()\n",
    "clf.get_params().keys()"
   ]
  },
  {
   "cell_type": "code",
   "execution_count": 56,
   "id": "1cc8d7ad",
   "metadata": {},
   "outputs": [
    {
     "name": "stdout",
     "output_type": "stream",
     "text": [
      "Fitting 5 folds for each of 10 candidates, totalling 50 fits\n",
      "{'kernel': 'linear', 'gamma': 'auto', 'degree': 5, 'coef0': 0.0, 'C': 10}\n",
      "Accuracy:0.975\n"
     ]
    }
   ],
   "source": [
    "param_grid={\n",
    "            'C': [10,20,50,100,200],\n",
    "            'gamma': ['auto','scale'],\n",
    "            'kernel': ['linear', 'poly', 'rbf', 'sigmoid'],\n",
    "            'degree' : [3,4,5,6], \n",
    "            'coef0' : [0.01,0.0,0.1,0.2]} \n",
    "\n",
    "grid = RandomizedSearchCV(clf,param_grid,n_jobs=-1,cv=5, verbose=2,\n",
    "                          scoring='accuracy',random_state=0)\n",
    "grid.fit(X_train,y_train)\n",
    "print(grid.best_params_)\n",
    "print(\"Accuracy:\"+ str(grid.best_score_))\n",
    "#clf.fit(X_train, y_train)"
   ]
  },
  {
   "cell_type": "code",
   "execution_count": 57,
   "id": "f2a62426",
   "metadata": {},
   "outputs": [
    {
     "name": "stdout",
     "output_type": "stream",
     "text": [
      "Accuracy score : 0.9333333333333333\n"
     ]
    }
   ],
   "source": [
    "from sklearn.metrics import accuracy_score\n",
    "preds = grid.predict(X_test)\n",
    "acc = accuracy_score(y_test,preds)\n",
    "print('Accuracy score :', acc)"
   ]
  },
  {
   "cell_type": "markdown",
   "id": "86ada9e2",
   "metadata": {},
   "source": [
    "### Question 5"
   ]
  },
  {
   "cell_type": "code",
   "execution_count": 58,
   "id": "d10a459a",
   "metadata": {},
   "outputs": [],
   "source": [
    "#A machine learning program for finding the 7th root of an integer\n",
    "#using a deep neural network.\n",
    "import tensorflow as tf\n",
    "from numpy import loadtxt\n",
    "from keras.models import Sequential\n",
    "from keras.layers import Dense\n",
    "from keras import optimizers\n",
    "from tensorflow.python.keras.optimizers import *\n",
    "import numpy as np\n"
   ]
  },
  {
   "cell_type": "code",
   "execution_count": 59,
   "id": "dda4a916",
   "metadata": {},
   "outputs": [
    {
     "name": "stdout",
     "output_type": "stream",
     "text": [
      "(10, 1)\n",
      "(10, 1)\n"
     ]
    }
   ],
   "source": [
    "import math\n",
    "#Load dataset\n",
    "#define input (X) and output (y)\n",
    "X = np.array([[1], [4], [9], [16], [25], [36], [49], [64], [81], [100]])\n",
    "X = X*1.0\n",
    "y = [math.pow(i,1/7) for i in X]\n",
    "y = np.asarray(y).reshape(10,1)\n",
    "print(X.shape)\n",
    "print(y.shape)"
   ]
  },
  {
   "cell_type": "code",
   "execution_count": 60,
   "id": "8d806720",
   "metadata": {},
   "outputs": [],
   "source": [
    "#define keras model (neural network)\n",
    "model = Sequential()\n",
    "#first hidden layer with 6 neurons and input dim of 1\n",
    "model.add(Dense(6,input_dim=X.shape[1],activation='relu')) \n",
    "model.add(Dense(6,activation='relu')) #second hidden layer with 6 units\n",
    "model.add(Dense(6,activation='relu')) #third hidden layer with \n",
    "model.add(Dense(1)) #output layer"
   ]
  },
  {
   "cell_type": "code",
   "execution_count": 61,
   "id": "987bcd2d",
   "metadata": {},
   "outputs": [],
   "source": [
    "#compile the keras model\n",
    "opt = optimizers.Adam(learning_rate=0.001)\n",
    "mse = tf.keras.losses.MeanSquaredError(reduction=tf.keras.losses.Reduction.SUM)\n",
    "model.compile(loss=mse, optimizer=opt)"
   ]
  },
  {
   "cell_type": "code",
   "execution_count": 62,
   "id": "2fc601a6",
   "metadata": {},
   "outputs": [
    {
     "name": "stdout",
     "output_type": "stream",
     "text": [
      "Model: \"sequential_3\"\n",
      "_________________________________________________________________\n",
      " Layer (type)                Output Shape              Param #   \n",
      "=================================================================\n",
      " dense_12 (Dense)            (None, 6)                 12        \n",
      "                                                                 \n",
      " dense_13 (Dense)            (None, 6)                 42        \n",
      "                                                                 \n",
      " dense_14 (Dense)            (None, 6)                 42        \n",
      "                                                                 \n",
      " dense_15 (Dense)            (None, 1)                 7         \n",
      "                                                                 \n",
      "=================================================================\n",
      "Total params: 103\n",
      "Trainable params: 103\n",
      "Non-trainable params: 0\n",
      "_________________________________________________________________\n"
     ]
    }
   ],
   "source": [
    "#fit the keras model on the dataset (CPU)\n",
    "model.fit(X,y,epochs=2000,batch_size=10, verbose=0) # model is trying to learn here\n",
    "model.summary()"
   ]
  },
  {
   "cell_type": "code",
   "execution_count": 63,
   "id": "91aa2f32",
   "metadata": {},
   "outputs": [
    {
     "name": "stdout",
     "output_type": "stream",
     "text": [
      "1/1 [==============================] - 0s 39ms/step\n"
     ]
    }
   ],
   "source": [
    "#make class predictions with the model\n",
    "predictions = model.predict(X)"
   ]
  },
  {
   "cell_type": "code",
   "execution_count": 64,
   "id": "d9907caf",
   "metadata": {},
   "outputs": [
    {
     "name": "stdout",
     "output_type": "stream",
     "text": [
      "[1.0] => 1.00 (expected 1.00)\n",
      "[4.0] => 1.31 (expected 1.22)\n",
      "[9.0] => 1.37 (expected 1.37)\n",
      "[16.0] => 1.46 (expected 1.49)\n",
      "[25.0] => 1.57 (expected 1.58)\n",
      "[36.0] => 1.63 (expected 1.67)\n",
      "[49.0] => 1.70 (expected 1.74)\n",
      "[64.0] => 1.78 (expected 1.81)\n",
      "[81.0] => 1.88 (expected 1.87)\n",
      "[100.0] => 1.98 (expected 1.93)\n"
     ]
    }
   ],
   "source": [
    "#summarize the first 10 cases\n",
    "for i in range(X.shape[0]):\n",
    "    print('%s => %.2f (expected %.2f)' %(X[i].tolist(), predictions[i], y[i]))"
   ]
  },
  {
   "cell_type": "code",
   "execution_count": 66,
   "id": "c1181ec9",
   "metadata": {},
   "outputs": [
    {
     "name": "stdout",
     "output_type": "stream",
     "text": [
      "4/4 [==============================] - 0s 1ms/step\n"
     ]
    },
    {
     "data": {
      "text/plain": [
       "<matplotlib.legend.Legend at 0x1c3c81d52e0>"
      ]
     },
     "execution_count": 66,
     "metadata": {},
     "output_type": "execute_result"
    },
    {
     "data": {
      "image/png": "[encoded data removed]",
      "text/plain": [
       "<Figure size 640x480 with 1 Axes>"
      ]
     },
     "metadata": {},
     "output_type": "display_data"
    }
   ],
   "source": [
    "import matplotlib.pyplot as plt\n",
    "number_grid = np.linspace(1, 100, 100)\n",
    "plt.scatter(X,y, label='data')\n",
    "plt.plot(number_grid,model.predict(np.expand_dims(number_grid,axis=1)),\n",
    "         color='red', label='model')\n",
    "plt.xlabel('number')\n",
    "plt.ylabel('square root')\n",
    "plt.legend()"
   ]
  },
  {
   "cell_type": "markdown",
   "id": "bda29fd2",
   "metadata": {},
   "source": [
    "### Question 6"
   ]
  },
  {
   "cell_type": "code",
   "execution_count": 67,
   "id": "dbcdf24a",
   "metadata": {},
   "outputs": [
    {
     "data": {
      "text/plain": [
       "dict_keys(['data', 'target', 'frame', 'target_names', 'DESCR', 'feature_names', 'filename', 'data_module'])"
      ]
     },
     "execution_count": 67,
     "metadata": {},
     "output_type": "execute_result"
    }
   ],
   "source": [
    "from sklearn import datasets\n",
    "\n",
    "iris = datasets.load_iris()\n",
    "iris.keys()"
   ]
  },
  {
   "cell_type": "code",
   "execution_count": 68,
   "id": "18f359cd",
   "metadata": {},
   "outputs": [
    {
     "data": {
      "text/plain": [
       "['sepal length (cm)',\n",
       " 'sepal width (cm)',\n",
       " 'petal length (cm)',\n",
       " 'petal width (cm)']"
      ]
     },
     "execution_count": 68,
     "metadata": {},
     "output_type": "execute_result"
    }
   ],
   "source": [
    "iris.feature_names"
   ]
  },
  {
   "cell_type": "code",
   "execution_count": 69,
   "id": "7e2def5e",
   "metadata": {},
   "outputs": [
    {
     "data": {
      "text/plain": [
       "(150, 4)"
      ]
     },
     "execution_count": 69,
     "metadata": {},
     "output_type": "execute_result"
    }
   ],
   "source": [
    "iris.data.shape "
   ]
  },
  {
   "cell_type": "code",
   "execution_count": 70,
   "id": "c2220b96",
   "metadata": {},
   "outputs": [
    {
     "name": "stdout",
     "output_type": "stream",
     "text": [
      "(150,)\n",
      "(150,)\n"
     ]
    }
   ],
   "source": [
    "X = iris.data[:,0] #use sepal length as input\n",
    "y = iris.data[:,2] #predicts petal length as output\n",
    "print(X.shape)\n",
    "print(y.shape)"
   ]
  },
  {
   "cell_type": "code",
   "execution_count": 71,
   "id": "07133400",
   "metadata": {},
   "outputs": [],
   "source": [
    "from sklearn.preprocessing import StandardScaler\n",
    "X_train,X_test,y_train,y_test = train_test_split(X,y,test_size = 0.2,\n",
    "                                                 random_state=123,shuffle=True,stratify=iris.target)\n",
    "scaler = StandardScaler()\n",
    "X_train = scaler.fit_transform(X_train.reshape(-1,1))\n",
    "X_test = scaler.transform(X_test.reshape(-1,1))"
   ]
  },
  {
   "cell_type": "code",
   "execution_count": 72,
   "id": "3d6e694b",
   "metadata": {},
   "outputs": [
    {
     "data": {
      "text/plain": [
       "(120, 1)"
      ]
     },
     "execution_count": 72,
     "metadata": {},
     "output_type": "execute_result"
    }
   ],
   "source": [
    "X_train.shape"
   ]
  },
  {
   "cell_type": "code",
   "execution_count": 73,
   "id": "5e277e5f",
   "metadata": {},
   "outputs": [
    {
     "data": {
      "text/plain": [
       "(1,)"
      ]
     },
     "execution_count": 73,
     "metadata": {},
     "output_type": "execute_result"
    }
   ],
   "source": [
    "X_train.shape[1:]"
   ]
  },
  {
   "cell_type": "code",
   "execution_count": 74,
   "id": "e07c3110",
   "metadata": {},
   "outputs": [],
   "source": [
    "#define keras model (neural network)\n",
    "model = Sequential()\n",
    "model.add(Dense(80,input_dim=X_train.shape[1],activation='relu'))\n",
    "model.add(Dense(40,activation='relu'))\n",
    "model.add(Dense(40,activation='relu'))\n",
    "model.add(Dense(1))\n",
    "#compile the keras model\n",
    "opt = optimizers.Adam(learning_rate=0.001)\n",
    "mse = tf.keras.losses.MeanSquaredError(reduction=tf.keras.losses.Reduction.SUM)\n",
    "model.compile(loss=mse, optimizer=opt)"
   ]
  },
  {
   "cell_type": "code",
   "execution_count": 75,
   "id": "73ada7d5",
   "metadata": {},
   "outputs": [
    {
     "name": "stdout",
     "output_type": "stream",
     "text": [
      "Model: \"sequential_4\"\n",
      "_________________________________________________________________\n",
      " Layer (type)                Output Shape              Param #   \n",
      "=================================================================\n",
      " dense_16 (Dense)            (None, 80)                160       \n",
      "                                                                 \n",
      " dense_17 (Dense)            (None, 40)                3240      \n",
      "                                                                 \n",
      " dense_18 (Dense)            (None, 40)                1640      \n",
      "                                                                 \n",
      " dense_19 (Dense)            (None, 1)                 41        \n",
      "                                                                 \n",
      "=================================================================\n",
      "Total params: 5,081\n",
      "Trainable params: 5,081\n",
      "Non-trainable params: 0\n",
      "_________________________________________________________________\n"
     ]
    }
   ],
   "source": [
    "#fit the keras model on the training dataset (CPU)\n",
    "#model is trying to learn here\n",
    "model.fit(X_train,y_train,epochs=2000,batch_size=10, verbose=0) \n",
    "model.summary()"
   ]
  },
  {
   "cell_type": "code",
   "execution_count": 76,
   "id": "cf70de70",
   "metadata": {},
   "outputs": [
    {
     "name": "stdout",
     "output_type": "stream",
     "text": [
      "1/1 [==============================] - 0s 96ms/step - loss: 11.7278\n"
     ]
    }
   ],
   "source": [
    "#evaluate the model\n",
    "mse_test = model.evaluate(X_test,y_test)"
   ]
  },
  {
   "cell_type": "code",
   "execution_count": 77,
   "id": "e92a06e8",
   "metadata": {},
   "outputs": [
    {
     "name": "stdout",
     "output_type": "stream",
     "text": [
      "4/4 [==============================] - 0s 2ms/step\n",
      "1/1 [==============================] - 0s 16ms/step\n",
      "R^2 train: 0.814, test: 0.886\n"
     ]
    }
   ],
   "source": [
    "from sklearn.metrics import r2_score\n",
    "#make predictions with the model on the test set\n",
    "y_train_pred = model.predict(X_train)\n",
    "y_test_pred = model.predict(X_test)\n",
    "print('R^2 train: %.3f, test: %.3f' %\n",
    "       (r2_score(y_train,y_train_pred),\n",
    "        r2_score(y_test, y_test_pred)))"
   ]
  },
  {
   "cell_type": "code",
   "execution_count": 83,
   "id": "86878484",
   "metadata": {},
   "outputs": [
    {
     "name": "stdout",
     "output_type": "stream",
     "text": [
      "[5.5] => 3.48 (expected 3.80)\n",
      "[4.8] => 1.75 (expected 1.40)\n",
      "[6.7] => 5.26 (expected 5.70)\n",
      "[6.5] => 5.09 (expected 5.10)\n",
      "[4.4] => 1.22 (expected 1.30)\n",
      "[4.7] => 1.48 (expected 1.30)\n",
      "[7.7] => 6.56 (expected 6.10)\n",
      "[6.3] => 5.12 (expected 4.90)\n",
      "[6.0] => 4.64 (expected 4.80)\n",
      "[4.9] => 1.95 (expected 1.50)\n"
     ]
    }
   ],
   "source": [
    "#summarize the first 10 cases in the test subset\n",
    "for i in range(10):\n",
    "    print('%s => %.2f (expected %.2f)' \n",
    "          %(scaler.inverse_transform(X_test)[i].tolist(), y_test_pred[i], y_test[i]))"
   ]
  },
  {
   "cell_type": "markdown",
   "id": "ccf0240f",
   "metadata": {},
   "source": [
    "#### Same process but without scaling and dividing dataset into training and test subsets"
   ]
  },
  {
   "cell_type": "code",
   "execution_count": 79,
   "id": "2776af1e",
   "metadata": {},
   "outputs": [
    {
     "name": "stdout",
     "output_type": "stream",
     "text": [
      "Model: \"sequential_5\"\n",
      "_________________________________________________________________\n",
      " Layer (type)                Output Shape              Param #   \n",
      "=================================================================\n",
      " dense_20 (Dense)            (None, 80)                160       \n",
      "                                                                 \n",
      " dense_21 (Dense)            (None, 40)                3240      \n",
      "                                                                 \n",
      " dense_22 (Dense)            (None, 40)                1640      \n",
      "                                                                 \n",
      " dense_23 (Dense)            (None, 1)                 41        \n",
      "                                                                 \n",
      "=================================================================\n",
      "Total params: 5,081\n",
      "Trainable params: 5,081\n",
      "Non-trainable params: 0\n",
      "_________________________________________________________________\n",
      "5/5 [==============================] - 0s 1ms/step\n",
      "5.1 => 1.94 (expected 1.40)\n",
      "4.9 => 1.79 (expected 1.40)\n",
      "4.7 => 1.60 (expected 1.30)\n",
      "4.6 => 1.51 (expected 1.50)\n",
      "5.0 => 1.87 (expected 1.40)\n",
      "5.4 => 2.45 (expected 1.70)\n",
      "4.6 => 1.51 (expected 1.40)\n",
      "5.0 => 1.87 (expected 1.50)\n",
      "4.4 => 1.31 (expected 1.40)\n",
      "4.9 => 1.79 (expected 1.50)\n"
     ]
    }
   ],
   "source": [
    "#define keras model (neural network)\n",
    "model = Sequential()\n",
    "model.add(Dense(80,input_dim=1,activation='relu'))\n",
    "model.add(Dense(40,activation='relu'))\n",
    "model.add(Dense(40,activation='relu'))\n",
    "model.add(Dense(1))\n",
    "\n",
    "#compile the keras model\n",
    "opt = optimizers.Adam(learning_rate=0.001)\n",
    "mse = tf.keras.losses.MeanSquaredError(reduction=tf.keras.losses.Reduction.SUM)\n",
    "model.compile(loss=mse, optimizer=opt)\n",
    "\n",
    "#fit the keras model on the dataset (CPU)\n",
    "model.fit(X,y,epochs=2000,batch_size=10, verbose=0) # model is trying to learn here\n",
    "model.summary()\n",
    "\n",
    "#make class predictions with the model\n",
    "predictions = model.predict(X)\n",
    "#summarize the first 10 cases\n",
    "for i in range(10):\n",
    "    print('%s => %.2f (expected %.2f)' %(X[i].tolist(), predictions[i], y[i]))"
   ]
  },
  {
   "cell_type": "code",
   "execution_count": 80,
   "id": "007a6e3c",
   "metadata": {},
   "outputs": [
    {
     "name": "stdout",
     "output_type": "stream",
     "text": [
      "R^2 whole dataset: 0.817\n"
     ]
    }
   ],
   "source": [
    "from sklearn.metrics import r2_score\n",
    "#make predictions with the model\n",
    "print('R^2 whole dataset: %.3f' % r2_score(y,predictions))"
   ]
  }
 ],
 "metadata": {
  "kernelspec": {
   "display_name": "Python 3 (ipykernel)",
   "language": "python",
   "name": "python3"
  },
  "language_info": {
   "codemirror_mode": {
    "name": "ipython",
    "version": 3
   },
   "file_extension": ".py",
   "mimetype": "text/x-python",
   "name": "python",
   "nbconvert_exporter": "python",
   "pygments_lexer": "ipython3",
   "version": "3.9.15"
  }
 },
 "nbformat": 4,
 "nbformat_minor": 5
}
